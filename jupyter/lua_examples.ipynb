{
 "cells": [
  {
   "cell_type": "markdown",
   "metadata": {},
   "source": [
    "# Lua examples\n",
    "\n",
    "We are using Redis Server 6\n",
    "\n",
    "This allows us to use RESP6 in our lua scripts.\n",
    "The python module hasn't started to implement RESP3 but that is fine for us.\n",
    "\n",
    "Coming from python table access like table['key'] = value comes very handy"
   ]
  },
  {
   "cell_type": "markdown",
   "metadata": {},
   "source": [
    "For the start the lua scripts will be more in the context of building views from our core redis storage. So they can be slightly complex."
   ]
  },
  {
   "cell_type": "code",
   "execution_count": null,
   "metadata": {},
   "outputs": [],
   "source": [
    "import redis\n",
    "\n",
    "from fastcounting import helper, views, store, files, system\n",
    "\n",
    "r = redis.Redis(**helper.Helper().rediscred, decode_responses=True)"
   ]
  },
  {
   "cell_type": "markdown",
   "metadata": {},
   "source": [
    "# Unique list of all accounts in use\n",
    "We achieve this by iterating over all atomic transactions in the 'account:atomic' sorted set.\n",
    "The RESP3 lua data we get from ZRANGEBYSCORE looks like this:\n",
    "\n",
    "{{\"171255\"; {[\"double\"]=135}}; {\"75069\"; {[\"double\"]=135}}; {\"169292\"; {[\"double\"]=650}};"
   ]
  },
  {
   "cell_type": "code",
   "execution_count": null,
   "metadata": {},
   "outputs": [],
   "source": [
    "lua_accounts = \"\"\"\n",
    "redis.setresp(3)\n",
    "local accounts = {}\n",
    "local hash = {}\n",
    "for i, value in pairs(redis.call(\n",
    "    'ZRANGEBYSCORE', KEYS[1], ARGV[1], ARGV[2], ARGV[3])) do\n",
    "    local account = value[2]['double']\n",
    "    if not hash[account] then\n",
    "        accounts[#accounts+1] = account\n",
    "        hash[account] = true\n",
    "    end\n",
    "end\n",
    "return accounts\n",
    "\"\"\"\n",
    "response = r.eval(lua_accounts, 1, 'account:atomic', 0, 9999999, 'WITHSCORES')"
   ]
  },
  {
   "cell_type": "markdown",
   "metadata": {},
   "source": [
    "# Sum up all accounts and return a 1 dimensional list to python RESP2 client\n",
    "\n",
    "If the python client would support resp3 we would be finished after the first for loop.\n",
    "\n",
    "In our case we have two more for loops. First we create 2 lists, than we concat those 2 lists. That should be fine for now."
   ]
  },
  {
   "cell_type": "code",
   "execution_count": null,
   "metadata": {},
   "outputs": [],
   "source": [
    "lua_sum = \"\"\"\n",
    "redis.setresp(3)\n",
    "local result = {}\n",
    "local hash = {}\n",
    "for i, value in pairs(redis.call(\n",
    "    'ZRANGEBYSCORE', KEYS[1], ARGV[1], ARGV[2], ARGV[3])) do\n",
    "    local account = value[2]['double']\n",
    "    local atomic = value[1]\n",
    "    if result[account] == nil then result[account] = 0 end\n",
    "    result[account] = result[account] + redis.call('HGET', 'atomicID:' .. atomic, 'amount')\n",
    "end\n",
    "\n",
    "local xaccounts = {}\n",
    "local xsums = {}\n",
    "for xaccount, xsum in pairs(result) do\n",
    "    xaccounts[#xaccounts+1] = xaccount\n",
    "    xsums[#xsums+1] = xsum\n",
    "end\n",
    "\n",
    "for i=1, #xsums do\n",
    "    xaccounts[#xaccounts + 1] = xsums[i]\n",
    "end\n",
    "return xaccounts\n",
    "\"\"\""
   ]
  },
  {
   "cell_type": "code",
   "execution_count": null,
   "metadata": {},
   "outputs": [],
   "source": [
    "response = r.eval(lua_sum, 1, 'account:atomic', 0, 9999999, 'WITHSCORES')"
   ]
  },
  {
   "cell_type": "code",
   "execution_count": null,
   "metadata": {},
   "outputs": [],
   "source": [
    "response"
   ]
  },
  {
   "cell_type": "code",
   "execution_count": null,
   "metadata": {},
   "outputs": [],
   "source": []
  }
 ],
 "metadata": {
  "kernelspec": {
   "display_name": "Python 3",
   "language": "python",
   "name": "python3"
  },
  "language_info": {
   "codemirror_mode": {
    "name": "ipython",
    "version": 3
   },
   "file_extension": ".py",
   "mimetype": "text/x-python",
   "name": "python",
   "nbconvert_exporter": "python",
   "pygments_lexer": "ipython3",
   "version": "3.7.6"
  }
 },
 "nbformat": 4,
 "nbformat_minor": 4
}
