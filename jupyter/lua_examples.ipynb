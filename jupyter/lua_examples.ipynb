{
 "cells": [
  {
   "cell_type": "markdown",
   "metadata": {},
   "source": [
    "# Lua examples\n",
    "We are using Redis Server 6\n",
    "\n",
    "This allows us to use RESP3 in our lua scripts.  \n",
    "The python module hasn't started to implement RESP3 but that is fine for us.\n",
    "\n",
    "Coming from python table access like table['key'] = value comes very handy"
   ]
  },
  {
   "cell_type": "markdown",
   "metadata": {},
   "source": [
    "For the start the lua scripts will be more in the context of building views from our core redis storage. So they can be slightly complex."
   ]
  },
  {
   "cell_type": "code",
   "execution_count": null,
   "metadata": {},
   "outputs": [],
   "source": [
    "import datetime as dt\n",
    "import pandas as pd\n",
    "import numpy as np\n",
    "import redis\n",
    "\n",
    "from fastcounting import helper, views, store, files, system\n",
    "\n",
    "r = redis.Redis(**helper.Helper().rediscred, decode_responses=True)"
   ]
  },
  {
   "cell_type": "markdown",
   "metadata": {},
   "source": [
    "# Unique list of all accounts where we have action\n",
    "We achieve this by iterating over all atomic transactions in the 'account:atomic'.\n",
    "The RESP3 lua data we get from ZRANGEBYSCORE looks like this:\n",
    "\n",
    "{{\"171255\"; {[\"double\"]=135}}; {\"75069\"; {[\"double\"]=135}}; {\"169292\"; {[\"double\"]=650}};"
   ]
  },
  {
   "cell_type": "code",
   "execution_count": null,
   "metadata": {},
   "outputs": [],
   "source": [
    "lua_accounts = \"\"\"\n",
    "redis.setresp(3)\n",
    "local accounts = {}\n",
    "local hash = {}\n",
    "for i, value in pairs(redis.call(\n",
    "    'ZRANGEBYSCORE', KEYS[1], ARGV[1], ARGV[2], ARGV[3])) do\n",
    "    local account = value[2]['double']\n",
    "    if not hash[account] then\n",
    "        accounts[#accounts+1] = account\n",
    "        hash[account] = true\n",
    "    end\n",
    "end\n",
    "if ARGV[4] == nil then return accounts end\n",
    "\"\"\"\n",
    "response = r.eval(lua_accounts, 1, 'account:atomic', 0, 9999999, 'WITHSCORES')"
   ]
  },
  {
   "cell_type": "markdown",
   "metadata": {},
   "source": [
    "# Sum up all accounts and return a 1 dimensional list to python RESP2 client\n",
    "\n",
    "If the python client would support resp3 we would be finished after the first for loop.\n",
    "\n",
    "First i looped over all values with scores (account number) in 'account:atomic'  \n",
    "I made a unique array from all the scores or from the range of scores you specified  \n",
    "In our case we have two more for loops. Second we create 2 lists, than we concat those 2 lists. That should be fine for now.  "
   ]
  },
  {
   "cell_type": "code",
   "execution_count": null,
   "metadata": {},
   "outputs": [],
   "source": [
    "lua_sum = \"\"\"\n",
    "redis.setresp(3)\n",
    "local result = {}\n",
    "local hash = {}\n",
    "for i, value in pairs(redis.call(\n",
    "    'ZRANGEBYSCORE', KEYS[1], ARGV[1], ARGV[2], ARGV[3])) do\n",
    "    local account = value[2]['double']\n",
    "    local atomic = value[1]\n",
    "    if result[account] == nil then result[account] = 0 end\n",
    "    result[account] = result[account] + redis.call('HGET', 'atomicID:' .. atomic, 'amount')\n",
    "end\n",
    "\n",
    "local xaccounts = {}\n",
    "local xsums = {}\n",
    "for xaccount, xsum in pairs(result) do\n",
    "    xaccounts[#xaccounts+1] = xaccount\n",
    "    xsums[#xsums+1] = xsum\n",
    "end\n",
    "\n",
    "for i=1, #xsums do\n",
    "    xaccounts[#xaccounts + 1] = xsums[i]\n",
    "end\n",
    "return xaccounts\n",
    "\"\"\""
   ]
  },
  {
   "cell_type": "code",
   "execution_count": null,
   "metadata": {},
   "outputs": [],
   "source": [
    "response = r.eval(lua_sum, 1, 'account:atomic', 0, 9999999, 'WITHSCORES')"
   ]
  },
  {
   "cell_type": "markdown",
   "metadata": {},
   "source": [
    "# Create views for all accounts, with the help of redis streams\n",
    "\n",
    "For views we always use 'atomic:date' as entrypoint. So we can add all atomics to our date aware redis streams (stack like)."
   ]
  },
  {
   "cell_type": "code",
   "execution_count": null,
   "metadata": {},
   "outputs": [],
   "source": [
    "lua_stable_view = \"\"\"\n",
    "redis.setresp(3)\n",
    "for i, atomicID in pairs(redis.call(\n",
    "    'ZRANGEBYSCORE', KEYS[1], ARGV[1], ARGV[2])) do\n",
    "\n",
    "    local atomic = redis.call('HGETALL', 'atomicID:' .. atomicID)['map']\n",
    "    local general = redis.call('HGETALL', 'generalID:' .. atomic['generalID'])['map']\n",
    "    local account = redis.call('HGETALL', 'accountsystem:' .. atomic['accountID'])['map']\n",
    "    if next(account)==nil then\n",
    "        account = redis.call('HGETALL', 'accountsystem:special_account')['map'] end\n",
    "    \n",
    "    redis.call('XADD','account:' .. atomic['accountID'],\n",
    "        general['date'] .. '-' .. i, \n",
    "        'general', atomic['generalID'])\n",
    "end\n",
    "\"\"\"\n",
    "# arguments are dates, we don't need accounts because we create a stream for every account\n",
    "response = r.eval(lua_stable_view, 1, 'atomic:date', 0, dt.datetime(2018, 1, 2).timestamp())"
   ]
  },
  {
   "cell_type": "markdown",
   "metadata": {},
   "source": [
    "Delete account views"
   ]
  },
  {
   "cell_type": "code",
   "execution_count": null,
   "metadata": {},
   "outputs": [],
   "source": [
    "delete_stable_views = lua_accounts + \"\"\"\n",
    "for i, account in pairs(accounts) do\n",
    "    redis.call('DEL', 'account:' .. account)\n",
    "end\n",
    "return true\n",
    "\"\"\"\n",
    "response = r.eval(delete_stable_views, 1, 'account:atomic', 0, 9999999, 'WITHSCORES', 'dont')"
   ]
  },
  {
   "cell_type": "code",
   "execution_count": null,
   "metadata": {},
   "outputs": [],
   "source": [
    "# show accountviews\n",
    "r.xrevrange('account:1830', 1513728000, 0)"
   ]
  },
  {
   "cell_type": "markdown",
   "metadata": {},
   "source": [
    "# Create atomicview \n",
    "Use case: Get all atomics for your defined timespan"
   ]
  },
  {
   "cell_type": "code",
   "execution_count": null,
   "metadata": {},
   "outputs": [],
   "source": [
    "lua_atomic_view = \"\"\"\n",
    "redis.setresp(3)\n",
    "for i, atomicID in pairs(redis.call(\n",
    "    'ZRANGEBYSCORE', KEYS[1], ARGV[1], ARGV[2])) do\n",
    "    local atomic = redis.call('HGETALL', 'atomicID:' .. atomicID)['map']\n",
    "    local general = redis.call('HGETALL', 'generalID:' .. atomic['generalID'])['map']\n",
    "    local account = redis.call('HGETALL', 'accountsystem:' .. atomic['accountID'])['map']\n",
    "    if next(account)==nil then\n",
    "        account = redis.call('HGETALL', 'accountsystem:special_account')['map'] end\n",
    "    \n",
    "    redis.call('XADD','atomicview',\n",
    "        general['date'] .. '-' .. i, \n",
    "        'general', atomic['generalID'])\n",
    "end\n",
    "return true\n",
    "\"\"\"\n",
    "response = r.eval(lua_atomic_view, 1, 'atomic:date', 0, dt.datetime(2018, 1, 2).timestamp())"
   ]
  },
  {
   "cell_type": "code",
   "execution_count": null,
   "metadata": {},
   "outputs": [],
   "source": [
    "# show atomicview\n",
    "response = r.xrevrange(\n",
    "    'atomicview',\n",
    "    int(dt.datetime(2018, 1, 2).timestamp()),\n",
    "    int(dt.datetime(2017, 1, 1).timestamp()),\n",
    "    count=2000000)"
   ]
  },
  {
   "cell_type": "code",
   "execution_count": null,
   "metadata": {},
   "outputs": [],
   "source": [
    "# delete atomic view -> we have only one without multistates\n",
    "r.delete('atomicview')"
   ]
  },
  {
   "cell_type": "markdown",
   "metadata": {},
   "source": [
    "parse response to a pandas Dataframe"
   ]
  },
  {
   "cell_type": "code",
   "execution_count": null,
   "metadata": {},
   "outputs": [],
   "source": [
    "data = np.array(response).flatten()\n",
    "df = pd.DataFrame(data[1::2].tolist(), index=data[0::2])\n",
    "df"
   ]
  },
  {
   "cell_type": "code",
   "execution_count": null,
   "metadata": {},
   "outputs": [],
   "source": []
  }
 ],
 "metadata": {
  "kernelspec": {
   "display_name": "Python 3",
   "language": "python",
   "name": "python3"
  },
  "language_info": {
   "codemirror_mode": {
    "name": "ipython",
    "version": 3
   },
   "file_extension": ".py",
   "mimetype": "text/x-python",
   "name": "python",
   "nbconvert_exporter": "python",
   "pygments_lexer": "ipython3",
   "version": "3.7.6"
  }
 },
 "nbformat": 4,
 "nbformat_minor": 4
}
