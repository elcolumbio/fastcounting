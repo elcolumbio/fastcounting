{
 "cells": [
  {
   "cell_type": "code",
   "execution_count": null,
   "metadata": {},
   "outputs": [],
   "source": [
    "import datetime as dt\n",
    "import pandas as pd\n",
    "import redis\n",
    "import numpy as np\n",
    "\n",
    "from fastcounting import helper, views, store, files, system"
   ]
  },
  {
   "cell_type": "code",
   "execution_count": null,
   "metadata": {},
   "outputs": [],
   "source": [
    "r = redis.Redis(**helper.Helper().rediscred, decode_responses=True)"
   ]
  },
  {
   "cell_type": "code",
   "execution_count": null,
   "metadata": {},
   "outputs": [],
   "source": [
    "# get all data examples we have in our core database"
   ]
  },
  {
   "cell_type": "code",
   "execution_count": null,
   "metadata": {},
   "outputs": [],
   "source": [
    "r.hgetall('accountsystem:4400')"
   ]
  },
  {
   "cell_type": "code",
   "execution_count": null,
   "metadata": {},
   "outputs": [],
   "source": [
    "r.hgetall('generalID:1000')"
   ]
  },
  {
   "cell_type": "code",
   "execution_count": null,
   "metadata": {},
   "outputs": [],
   "source": [
    "r.hgetall('atomicID:0')"
   ]
  },
  {
   "cell_type": "code",
   "execution_count": null,
   "metadata": {},
   "outputs": [],
   "source": [
    "m = r.zrangebyscore('general:atomic', 1,1)\n",
    "inwords = []\n",
    "for x in m:\n",
    "    atomic = r.hgetall(f'atomicID:{x}')\n",
    "    part = f\"{atomic['accountID']}:{atomic['amount']}€\"\n",
    "    if atomic['kontenseite'] == 'Soll':\n",
    "        inwords.insert(0, part)\n",
    "    else:\n",
    "        inwords.append(part)\n",
    "', '.join(inwords)"
   ]
  },
  {
   "cell_type": "markdown",
   "metadata": {},
   "source": [
    "  The word is not timestamp it is\n",
    "# Epoch timestamps\n",
    "\n",
    "[pandas epoch timestamps](https://pandas.pydata.org/pandas-docs/stable/user_guide/timeseries.html#epoch-timestamps)\n",
    "\n",
    "all dates are integer arrays in the backend in pandas.\n",
    "so you can do df['date'].astype(int64)// 10**9"
   ]
  },
  {
   "cell_type": "code",
   "execution_count": null,
   "metadata": {},
   "outputs": [],
   "source": []
  }
 ],
 "metadata": {
  "kernelspec": {
   "display_name": "Python 3",
   "language": "python",
   "name": "python3"
  },
  "language_info": {
   "codemirror_mode": {
    "name": "ipython",
    "version": 3
   },
   "file_extension": ".py",
   "mimetype": "text/x-python",
   "name": "python",
   "nbconvert_exporter": "python",
   "pygments_lexer": "ipython3",
   "version": "3.7.6"
  }
 },
 "nbformat": 4,
 "nbformat_minor": 4
}
