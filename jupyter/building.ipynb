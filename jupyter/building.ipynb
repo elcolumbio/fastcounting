{
 "cells": [
  {
   "cell_type": "code",
   "execution_count": null,
   "metadata": {},
   "outputs": [],
   "source": [
    "import datetime as dt\n",
    "import pandas as pd\n",
    "import redis\n",
    "import numpy as np\n",
    "\n",
    "from fastcounting import helper, views, store, files, system"
   ]
  },
  {
   "cell_type": "code",
   "execution_count": null,
   "metadata": {},
   "outputs": [],
   "source": [
    "r = redis.Redis(**helper.Helper().rediscred, decode_responses=True)"
   ]
  },
  {
   "cell_type": "code",
   "execution_count": null,
   "metadata": {},
   "outputs": [],
   "source": [
    "# unique list of all accounts we have at least one atomic transactions linked to\n",
    "# its a lot faster to make the list unique first"
   ]
  },
  {
   "cell_type": "code",
   "execution_count": null,
   "metadata": {},
   "outputs": [],
   "source": [
    "response = r.eval(lua_accounts, 1, 'account:atomic', 0, 999999, 'WITHSCORES')"
   ]
  },
  {
   "cell_type": "code",
   "execution_count": null,
   "metadata": {},
   "outputs": [],
   "source": [
    "# lets build on lua_accounts"
   ]
  },
  {
   "cell_type": "code",
   "execution_count": null,
   "metadata": {},
   "outputs": [],
   "source": [
    "# i am a lua beginner here is what i did\n",
    "# first i looped over all values with scores (account number) in 'account:atomic'\n",
    "# i made a unique array from all the scores or from the range of scores you specified\n",
    "# second i loop over the same store again but now only one account a time\n",
    "# i use the atomics from this second loop to lookup their amount in the according hash\n",
    "# i sum everything together and create a new item in the list result for every account\n",
    "# thirdly i concat the two lists from 1 and 2\n",
    "# so you use the final list somehow like:\n",
    "# sums = dict(response[middle:], zip(response[:middle]))\n",
    "\n",
    "lua_sum = \"\"\"\n",
    "redis.setresp(3)\n",
    "local accounts = {}\n",
    "local hash = {}\n",
    "for i, value in pairs(redis.call(\n",
    "    'ZRANGEBYSCORE', KEYS[1], ARGV[1], ARGV[2], ARGV[3])) do\n",
    "    local account = value[2]['double']\n",
    "    if not hash[account] then\n",
    "        accounts[#accounts+1] = account\n",
    "        hash[account] = true\n",
    "    end\n",
    "end\n",
    "\n",
    "local result = {}\n",
    "for idx, account in ipairs(accounts) do\n",
    "    result[idx] = 0\n",
    "    for i, atomic in pairs(redis.call(\n",
    "        'ZRANGEBYSCORE', KEYS[1], account, account)) do\n",
    "        result[idx] = result[idx] + redis.call('HGET', 'atomicID:' .. atomic, 'amount')\n",
    "    end\n",
    "end\n",
    "\n",
    "for i=1,#accounts do\n",
    "    result[#result+1] = accounts[i]\n",
    "end\n",
    "return result\n",
    "\"\"\""
   ]
  },
  {
   "cell_type": "code",
   "execution_count": null,
   "metadata": {},
   "outputs": [],
   "source": [
    "response = r.eval(lua_sum, 1, 'account:atomic', 0, 9999999, 'WITHSCORES')"
   ]
  },
  {
   "cell_type": "code",
   "execution_count": null,
   "metadata": {},
   "outputs": [],
   "source": [
    "r.eval('''\n",
    "redis.setresp(3)\n",
    "local accounti = {}\n",
    "accounti = redis.call('hgetall', KEYS[1])[\"map\"]\n",
    "local result = accounti[\"kontenseite\"]\n",
    "return result''', 1, 'atomicID:10000')"
   ]
  },
  {
   "cell_type": "code",
   "execution_count": null,
   "metadata": {},
   "outputs": [],
   "source": [
    "atomic_rows = \"\"\"\n",
    "local row = {}\n",
    "for i, atomic in pairs(redis.call(\n",
    "    'ZRANGEBYSCORE', KEYS[1], ARGV[1], ARGV[2])) do\n",
    "row[i] = redis.call('HGET', 'atomicID:' .. atomic, 'accountID')\n",
    "end\n",
    "return row\n",
    "\"\"\"\n",
    "response = r.eval(atomic_rows, 1, 'atomic:date', 0, 99999999999999999)"
   ]
  },
  {
   "cell_type": "code",
   "execution_count": null,
   "metadata": {},
   "outputs": [],
   "source": [
    "dt.datetime.today().timestamp()"
   ]
  },
  {
   "cell_type": "markdown",
   "metadata": {},
   "source": [
    "# Those new stream views especially the stable account one."
   ]
  },
  {
   "cell_type": "code",
   "execution_count": null,
   "metadata": {},
   "outputs": [],
   "source": [
    "lua_stable_view = \"\"\"\n",
    "redis.setresp(3)\n",
    "for i, atomic in pairs(redis.call(\n",
    "    'ZRANGEBYSCORE', KEYS[1], ARGV[1], ARGV[2])) do\n",
    "    local row = redis.call('HGETALL', 'atomicID:' .. atomic)['map']\n",
    "\n",
    "    local generali = redis.call('HGETALL', 'generalID:' .. row['generalID'])['map']\n",
    "    local accounti = redis.call('HGETALL', 'accountsystem:' .. row['accountID'])['map']\n",
    "    if next(accounti)==nil then\n",
    "        accounti = redis.call('HGETALL', 'accountsystem:special_account')['map'] end\n",
    "    redis.call('XADD','account:' .. row['accountID'], '*', \n",
    "        'general', row['generalID'])\n",
    "end\n",
    "\"\"\""
   ]
  },
  {
   "cell_type": "code",
   "execution_count": null,
   "metadata": {},
   "outputs": [],
   "source": [
    "# arguments are dates, we don't need accounts because we create a stream for every account\n",
    "response = r.eval(lua_stable_view, 1, 'atomic:date', 0, dt.datetime(2017, 1, 2).timestamp())"
   ]
  },
  {
   "cell_type": "code",
   "execution_count": null,
   "metadata": {},
   "outputs": [],
   "source": [
    "response"
   ]
  },
  {
   "cell_type": "code",
   "execution_count": null,
   "metadata": {},
   "outputs": [],
   "source": [
    "r.hgetall('accountsystem:5906')"
   ]
  },
  {
   "cell_type": "code",
   "execution_count": null,
   "metadata": {},
   "outputs": [],
   "source": [
    "r.hgetall('atomicID:')"
   ]
  },
  {
   "cell_type": "code",
   "execution_count": null,
   "metadata": {},
   "outputs": [],
   "source": [
    "response = r.xrevrange('account:1830')"
   ]
  },
  {
   "cell_type": "code",
   "execution_count": null,
   "metadata": {},
   "outputs": [],
   "source": [
    "response"
   ]
  },
  {
   "cell_type": "code",
   "execution_count": null,
   "metadata": {},
   "outputs": [],
   "source": [
    "r.re"
   ]
  }
 ],
 "metadata": {
  "kernelspec": {
   "display_name": "Python 3",
   "language": "python",
   "name": "python3"
  },
  "language_info": {
   "codemirror_mode": {
    "name": "ipython",
    "version": 3
   },
   "file_extension": ".py",
   "mimetype": "text/x-python",
   "name": "python",
   "nbconvert_exporter": "python",
   "pygments_lexer": "ipython3",
   "version": "3.7.6"
  }
 },
 "nbformat": 4,
 "nbformat_minor": 4
}
