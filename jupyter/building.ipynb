{
 "cells": [
  {
   "cell_type": "code",
   "execution_count": null,
   "metadata": {},
   "outputs": [],
   "source": [
    "import datetime as dt\n",
    "import pandas as pd\n",
    "import redis\n",
    "import numpy as np\n",
    "\n",
    "from fastcounting import helper, views, store, files, system, queries"
   ]
  },
  {
   "cell_type": "code",
   "execution_count": null,
   "metadata": {},
   "outputs": [],
   "source": [
    "from fastcounting import lua\n",
    "import importlib.resources as pkg_resources"
   ]
  },
  {
   "cell_type": "code",
   "execution_count": null,
   "metadata": {},
   "outputs": [],
   "source": [
    "r = redis.Redis(**helper.Helper().rediscred, decode_responses=True)"
   ]
  },
  {
   "cell_type": "code",
   "execution_count": null,
   "metadata": {},
   "outputs": [],
   "source": [
    "# get all data examples we have in our core database"
   ]
  },
  {
   "cell_type": "code",
   "execution_count": null,
   "metadata": {},
   "outputs": [],
   "source": [
    "r.hgetall('accountsystem:4400')"
   ]
  },
  {
   "cell_type": "code",
   "execution_count": null,
   "metadata": {},
   "outputs": [],
   "source": [
    "r.hgetall('generalID:1')"
   ]
  },
  {
   "cell_type": "code",
   "execution_count": null,
   "metadata": {},
   "outputs": [],
   "source": [
    "r.hgetall('atomicID:0')"
   ]
  },
  {
   "cell_type": "code",
   "execution_count": null,
   "metadata": {},
   "outputs": [],
   "source": [
    "m = r.zrangebyscore('general:atomic', 1,1)\n",
    "inwords = []\n",
    "for x in m:\n",
    "    atomic = r.hgetall(f'atomicID:{x}')\n",
    "    part = f\"{atomic['accountID']}:{atomic['amount']}€\"\n",
    "    if atomic['kontenseite'] == 'Soll':\n",
    "        inwords.insert(0, part)\n",
    "    else:\n",
    "        inwords.append(part)\n",
    "', '.join(inwords)"
   ]
  },
  {
   "cell_type": "markdown",
   "metadata": {},
   "source": [
    "  The word is not timestamp it is\n",
    "# Epoch timestamps\n",
    "\n",
    "[pandas epoch timestamps](https://pandas.pydata.org/pandas-docs/stable/user_guide/timeseries.html#epoch-timestamps)\n",
    "\n",
    "all dates are integer arrays in the backend in pandas.\n",
    "so you can do df['date'].astype(int64)// 10**9"
   ]
  },
  {
   "cell_type": "code",
   "execution_count": null,
   "metadata": {},
   "outputs": [],
   "source": []
  },
  {
   "cell_type": "code",
   "execution_count": null,
   "metadata": {},
   "outputs": [],
   "source": [
    "streamdata = queries.query_atomicview(0, int(dt.datetime.today().timestamp()))"
   ]
  },
  {
   "cell_type": "code",
   "execution_count": null,
   "metadata": {},
   "outputs": [],
   "source": [
    "df = queries.stream_to_dataframe(streamdata)"
   ]
  },
  {
   "cell_type": "code",
   "execution_count": null,
   "metadata": {},
   "outputs": [],
   "source": [
    "df.head()"
   ]
  },
  {
   "cell_type": "markdown",
   "metadata": {},
   "source": [
    "# pattern matching for reocurring events\n",
    "we could introduce a point system\n",
    "amount exact match\n",
    "date month range  fuzzy match of day of month\n",
    "text   find a word match (letters > 4"
   ]
  },
  {
   "cell_type": "code",
   "execution_count": null,
   "metadata": {},
   "outputs": [],
   "source": [
    "store.create_relation"
   ]
  },
  {
   "cell_type": "code",
   "execution_count": null,
   "metadata": {},
   "outputs": [],
   "source": [
    "r.zrangebyscore('batch:general', '1589733793','1589733793')"
   ]
  },
  {
   "cell_type": "code",
   "execution_count": null,
   "metadata": {},
   "outputs": [],
   "source": [
    "r.xrange()"
   ]
  },
  {
   "cell_type": "code",
   "execution_count": null,
   "metadata": {},
   "outputs": [],
   "source": [
    "atomicid=1\n",
    "r.hgetall(f'atomicID:{atomicid}')"
   ]
  },
  {
   "cell_type": "code",
   "execution_count": null,
   "metadata": {},
   "outputs": [],
   "source": [
    "def lookup(atomicid):\n",
    "    \"\"\"For small amounts of atomicids you could use this slow python function.\"\"\"\n",
    "    atomic_hash = r.hgetall(f'atomicID:{atomicid}')\n",
    "    general_hash = r.hgetall(f\"generalID:{atomic_hash['generalID']}\")\n",
    "    system_hash = r.hgetall(f\"accountsystem:{atomic_hash['accountID']}\")\n",
    "    atomic_hash.update(general_hash)\n",
    "    atomic_hash.update(system_hash)\n",
    "    return atomic_hash"
   ]
  },
  {
   "cell_type": "code",
   "execution_count": null,
   "metadata": {},
   "outputs": [],
   "source": [
    "lookup(1)"
   ]
  },
  {
   "cell_type": "code",
   "execution_count": null,
   "metadata": {},
   "outputs": [],
   "source": []
  }
 ],
 "metadata": {
  "kernelspec": {
   "display_name": "Python 3",
   "language": "python",
   "name": "python3"
  },
  "language_info": {
   "codemirror_mode": {
    "name": "ipython",
    "version": 3
   },
   "file_extension": ".py",
   "mimetype": "text/x-python",
   "name": "python",
   "nbconvert_exporter": "python",
   "pygments_lexer": "ipython3",
   "version": "3.7.7"
  }
 },
 "nbformat": 4,
 "nbformat_minor": 4
}
