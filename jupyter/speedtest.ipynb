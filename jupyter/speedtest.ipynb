{
 "cells": [
  {
   "cell_type": "code",
   "execution_count": null,
   "metadata": {},
   "outputs": [],
   "source": [
    "import pandas as pd\n",
    "import datetime\n",
    "from waipawama import Finance\n",
    "import pathlib\n",
    "import math\n",
    "import calendar\n",
    "import datetime as dt\n",
    "import redis\n",
    "\n",
    "import pyarrow as pa\n",
    "import pyarrow.parquet as pq\n",
    "\n",
    "from mlrepricer import helper\n",
    "%alias_magic t timeit"
   ]
  },
  {
   "cell_type": "code",
   "execution_count": null,
   "metadata": {},
   "outputs": [],
   "source": [
    "lua_script = \"\"\"\n",
    "local result = {}\n",
    "for l, atomic in ipairs(redis.call('SMEMBERS', KEYS[1]))\n",
    "do result[l] = redis.call('HGET', 'atomicID:' .. atomic, 'amount')\n",
    "end\n",
    "return result\n",
    "\"\"\""
   ]
  },
  {
   "cell_type": "code",
   "execution_count": null,
   "metadata": {},
   "outputs": [],
   "source": [
    "%%t\n",
    "python_list = []\n",
    "for atomic in r.smembers('account:atomic:4400.0'):\n",
    "    python_list.append(r.hget('atomicID:'+atomic, 'amount'))\n",
    "len(python_list)"
   ]
  },
  {
   "cell_type": "code",
   "execution_count": null,
   "metadata": {},
   "outputs": [],
   "source": [
    "%t [r.hget('atomicID:'+atomic, 'amount') for atomic in r.smembers('account:atomic:4400.0')]"
   ]
  },
  {
   "cell_type": "code",
   "execution_count": null,
   "metadata": {},
   "outputs": [],
   "source": [
    "%t result = r.eval(lua_script, 1, 'account:atomic:4400.0')"
   ]
  },
  {
   "cell_type": "code",
   "execution_count": null,
   "metadata": {},
   "outputs": [],
   "source": [
    "len(result)"
   ]
  }
 ],
 "metadata": {
  "kernelspec": {
   "display_name": "Python 3",
   "language": "python",
   "name": "python3"
  },
  "language_info": {
   "codemirror_mode": {
    "name": "ipython",
    "version": 3
   },
   "file_extension": ".py",
   "mimetype": "text/x-python",
   "name": "python",
   "nbconvert_exporter": "python",
   "pygments_lexer": "ipython3",
   "version": "3.7.6"
  }
 },
 "nbformat": 4,
 "nbformat_minor": 4
}
