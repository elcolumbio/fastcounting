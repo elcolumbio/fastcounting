{
 "cells": [
  {
   "cell_type": "markdown",
   "metadata": {},
   "source": [
    "# We introduce views\n",
    "\n",
    "The most easy abstraction layer on top of our core db.  \n",
    "We have 2 main view types atomicview and for every account has its own view."
   ]
  },
  {
   "cell_type": "code",
   "execution_count": null,
   "metadata": {},
   "outputs": [],
   "source": [
    "import datetime as dt\n",
    "import pandas as pd\n",
    "import numpy as np\n",
    "import redis\n",
    "\n",
    "from fastcounting import helper, queries\n",
    "\n",
    "r = redis.Redis(**helper.Helper().rediscred, decode_responses=True)"
   ]
  },
  {
   "cell_type": "code",
   "execution_count": null,
   "metadata": {},
   "outputs": [],
   "source": [
    "def stream_to_dataframe(streamdata):\n",
    "    \"\"\"Parse List of tuples, where second tuple is a dictionary to pandas dataframe.\"\"\"\n",
    "    data = np.array(response).flatten()\n",
    "    df = pd.DataFrame(data[1::2].tolist(), index=data[0::2])\n",
    "    return df"
   ]
  },
  {
   "cell_type": "markdown",
   "metadata": {},
   "source": [
    "# Account View\n",
    "To get all atomic transactions from one account is as simple as this"
   ]
  },
  {
   "cell_type": "code",
   "execution_count": null,
   "metadata": {},
   "outputs": [],
   "source": [
    "# accountcview\n",
    "response = r.xrange('account:1830')"
   ]
  },
  {
   "cell_type": "code",
   "execution_count": null,
   "metadata": {},
   "outputs": [],
   "source": [
    "# optional you can specify a datarange\n",
    "response = r.xrange(\n",
    "    'account:1830',\n",
    "    int(dt.datetime(2017, 1, 1).timestamp()),\n",
    "    int(dt.datetime(2017, 1, 31).timestamp()))"
   ]
  },
  {
   "cell_type": "markdown",
   "metadata": {},
   "source": [
    "# Atomic View"
   ]
  },
  {
   "cell_type": "code",
   "execution_count": null,
   "metadata": {},
   "outputs": [],
   "source": [
    "# show atomicview\n",
    "response = r.xrevrange(\n",
    "    'atomicview',\n",
    "    int(dt.datetime(2018, 1, 2).timestamp()),\n",
    "    int(dt.datetime(2017, 1, 1).timestamp()),\n",
    "    count=2000000)"
   ]
  },
  {
   "cell_type": "markdown",
   "metadata": {},
   "source": [
    "# Views to pandas dataframe"
   ]
  },
  {
   "cell_type": "code",
   "execution_count": null,
   "metadata": {},
   "outputs": [],
   "source": [
    "df = stream_to_dataframe(response)\n",
    "df.head()"
   ]
  },
  {
   "cell_type": "code",
   "execution_count": null,
   "metadata": {},
   "outputs": [],
   "source": [
    "df['date'] = df['date'].astype(int)\n",
    "df['amount'] = df['amount'].astype(float)"
   ]
  },
  {
   "cell_type": "code",
   "execution_count": null,
   "metadata": {},
   "outputs": [],
   "source": [
    "df['date'] = pd.to_datetime(df['date'], unit='s')\n",
    "df['jourdate'] = pd.to_datetime(df['jourdate'], unit='s')\n",
    "df['amount'] = df['amount']/100"
   ]
  },
  {
   "cell_type": "code",
   "execution_count": null,
   "metadata": {},
   "outputs": [],
   "source": [
    "df"
   ]
  },
  {
   "cell_type": "code",
   "execution_count": null,
   "metadata": {},
   "outputs": [],
   "source": []
  }
 ],
 "metadata": {
  "kernelspec": {
   "display_name": "Python 3",
   "language": "python",
   "name": "python3"
  },
  "language_info": {
   "codemirror_mode": {
    "name": "ipython",
    "version": 3
   },
   "file_extension": ".py",
   "mimetype": "text/x-python",
   "name": "python",
   "nbconvert_exporter": "python",
   "pygments_lexer": "ipython3",
   "version": "3.7.6"
  }
 },
 "nbformat": 4,
 "nbformat_minor": 4
}
