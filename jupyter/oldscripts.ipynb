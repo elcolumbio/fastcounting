{
 "cells": [
  {
   "cell_type": "code",
   "execution_count": null,
   "metadata": {},
   "outputs": [],
   "source": [
    "# this is how to make a view in python.\n",
    "# but its way too slow, thats why we use lua and create views wich are easy to query with python.\n",
    "result_list = []\n",
    "for atomic in atomics:\n",
    "    row = r.hgetall(f'atomicID:{atomic[0]}')\n",
    "    account = int(float(row['accountID']))\n",
    "    general = row['generalID']\n",
    "    row.update(r.hgetall(f\"generalID:{general}\"))\n",
    "    row.update(r.hgetall(f\"accountsystem:{account}\"))\n",
    "    result_list.append(row)\n",
    "    print(account)\n",
    "    r.xadd(f'account:{account}', row)\n",
    "    break"
   ]
  }
 ],
 "metadata": {
  "kernelspec": {
   "display_name": "Python 3",
   "language": "python",
   "name": "python3"
  },
  "language_info": {
   "codemirror_mode": {
    "name": "ipython",
    "version": 3
   },
   "file_extension": ".py",
   "mimetype": "text/x-python",
   "name": "python",
   "nbconvert_exporter": "python",
   "pygments_lexer": "ipython3",
   "version": "3.7.6"
  }
 },
 "nbformat": 4,
 "nbformat_minor": 4
}
