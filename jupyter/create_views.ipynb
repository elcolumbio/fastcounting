{
 "cells": [
  {
   "cell_type": "code",
   "execution_count": 1,
   "metadata": {},
   "outputs": [],
   "source": [
    "import pandas as pd\n",
    "import datetime\n",
    "from waipawama import Finance\n",
    "import pathlib\n",
    "import datetime as dt\n",
    "import redis\n",
    "\n",
    "from fastcounting import helper"
   ]
  },
  {
   "cell_type": "code",
   "execution_count": 2,
   "metadata": {},
   "outputs": [],
   "source": [
    "r = redis.Redis(**helper.rediscred, decode_responses=True)"
   ]
  },
  {
   "cell_type": "code",
   "execution_count": 3,
   "metadata": {},
   "outputs": [],
   "source": [
    "lua_script = \"\"\"\n",
    "local result = 0.0\n",
    "for l, atomic in ipairs(redis.call('SMEMBERS', KEYS[1]))\n",
    "do result = result + redis.call('HGET', 'atomicID:' .. atomic, 'amount')\n",
    "end\n",
    "return result\n",
    "\"\"\""
   ]
  },
  {
   "cell_type": "code",
   "execution_count": 4,
   "metadata": {},
   "outputs": [
    {
     "data": {
      "text/plain": [
       "{'host': 'localhost', 'port': 6379}"
      ]
     },
     "execution_count": 4,
     "metadata": {},
     "output_type": "execute_result"
    }
   ],
   "source": [
    "{**helper.rediscred}"
   ]
  },
  {
   "cell_type": "code",
   "execution_count": 5,
   "metadata": {},
   "outputs": [],
   "source": [
    "result = r.eval(lua_script, 1, 'account:atomic:3300.0')"
   ]
  },
  {
   "cell_type": "code",
   "execution_count": 6,
   "metadata": {},
   "outputs": [
    {
     "data": {
      "text/plain": [
       "0"
      ]
     },
     "execution_count": 6,
     "metadata": {},
     "output_type": "execute_result"
    }
   ],
   "source": [
    "result"
   ]
  },
  {
   "cell_type": "code",
   "execution_count": 45,
   "metadata": {},
   "outputs": [
    {
     "data": {
      "text/plain": [
       "{'date': '1483228800',\n",
       " 'jourdat': '1487030400.0',\n",
       " 'buchdat': '1487030400.0',\n",
       " 'status': 'nan',\n",
       " 'belegnr': 'AM171_15'}"
      ]
     },
     "execution_count": 45,
     "metadata": {},
     "output_type": "execute_result"
    }
   ],
   "source": [
    "r.hgetall('generalID:10')"
   ]
  },
  {
   "cell_type": "code",
   "execution_count": 46,
   "metadata": {},
   "outputs": [
    {
     "data": {
      "text/plain": [
       "{'generalID': '1',\n",
       " 'accountID': '4400.0',\n",
       " 'text': '028-5828144-7937959',\n",
       " 'amount': '550.0',\n",
       " 'kontenseite': 'Haben'}"
      ]
     },
     "execution_count": 46,
     "metadata": {},
     "output_type": "execute_result"
    }
   ],
   "source": [
    "r.hgetall('atomicID:2')"
   ]
  },
  {
   "cell_type": "code",
   "execution_count": 47,
   "metadata": {},
   "outputs": [
    {
     "data": {
      "text/plain": [
       "0"
      ]
     },
     "execution_count": 47,
     "metadata": {},
     "output_type": "execute_result"
    }
   ],
   "source": [
    "result"
   ]
  },
  {
   "cell_type": "code",
   "execution_count": 48,
   "metadata": {},
   "outputs": [],
   "source": [
    "def read_lexware(month, name='report', nrows=None):\n",
    "    \"\"\"Read xlxs from the default folder for each year e.g. month=2018-13 or actual month.\"\"\"\n",
    "    p = pathlib.Path(f'{Finance().data}{month}')\n",
    "    files = [file for file in p.iterdir() if file.parts[-1].lower().startswith(name)]\n",
    "    if files:\n",
    "        data = pd.read_table(files[0], sep='\\t', engine='python', header=[0, 1], decimal=',', thousands='.', parse_dates=[2])\n",
    "    return data"
   ]
  },
  {
   "cell_type": "code",
   "execution_count": 49,
   "metadata": {},
   "outputs": [],
   "source": [
    "def clean_report(validate):\n",
    "    better_columns = ['Konto', 'Name', 'Letzte Buchung', 'EB Soll', 'EB Haben', 'Summe Soll', 'Summe Haben', 'drop1', 'drop2', 'Saldo Soll', 'Saldo Haben']\n",
    "    validate.columns = better_columns\n",
    "    validate.set_index('Konto', inplace = True)\n",
    "    validate.fillna(0, inplace=True)  # for full year data set they are equal to sum\n",
    "    validate.drop(['drop1', 'drop2'], axis=1, inplace=True)\n",
    "    return validate"
   ]
  },
  {
   "cell_type": "code",
   "execution_count": 50,
   "metadata": {},
   "outputs": [],
   "source": [
    "# main\n",
    "validate = read_lexware('2017-13')\n",
    "validate = clean_report(validate)"
   ]
  },
  {
   "cell_type": "code",
   "execution_count": 51,
   "metadata": {},
   "outputs": [],
   "source": [
    "validate['checksum'] =  validate['Saldo Haben'] - validate['Saldo Soll']"
   ]
  },
  {
   "cell_type": "code",
   "execution_count": 52,
   "metadata": {},
   "outputs": [],
   "source": [
    "redis_sum_list = []\n",
    "for konto in validate.index:\n",
    "    redis_sum_list.append(r.eval(lua_script, 1, f'account:atomic:{float(konto)}'))"
   ]
  },
  {
   "cell_type": "code",
   "execution_count": 53,
   "metadata": {},
   "outputs": [],
   "source": [
    "validate['test_redis'] = redis_sum_list\n",
    "validate['test_redis'] = validate['test_redis'] / 100"
   ]
  },
  {
   "cell_type": "code",
   "execution_count": 57,
   "metadata": {},
   "outputs": [
    {
     "data": {
      "text/html": [
       "<div>\n",
       "<style scoped>\n",
       "    .dataframe tbody tr th:only-of-type {\n",
       "        vertical-align: middle;\n",
       "    }\n",
       "\n",
       "    .dataframe tbody tr th {\n",
       "        vertical-align: top;\n",
       "    }\n",
       "\n",
       "    .dataframe thead th {\n",
       "        text-align: right;\n",
       "    }\n",
       "</style>\n",
       "<table border=\"1\" class=\"dataframe\">\n",
       "  <thead>\n",
       "    <tr style=\"text-align: right;\">\n",
       "      <th></th>\n",
       "      <th>Name</th>\n",
       "      <th>Letzte Buchung</th>\n",
       "      <th>EB Soll</th>\n",
       "      <th>EB Haben</th>\n",
       "      <th>Summe Soll</th>\n",
       "      <th>Summe Haben</th>\n",
       "      <th>Saldo Soll</th>\n",
       "      <th>Saldo Haben</th>\n",
       "      <th>checksum</th>\n",
       "      <th>test_redis</th>\n",
       "    </tr>\n",
       "    <tr>\n",
       "      <th>Konto</th>\n",
       "      <th></th>\n",
       "      <th></th>\n",
       "      <th></th>\n",
       "      <th></th>\n",
       "      <th></th>\n",
       "      <th></th>\n",
       "      <th></th>\n",
       "      <th></th>\n",
       "      <th></th>\n",
       "      <th></th>\n",
       "    </tr>\n",
       "  </thead>\n",
       "  <tbody>\n",
       "    <tr>\n",
       "      <th>135</th>\n",
       "      <td>EDV-Software</td>\n",
       "      <td>27.11.</td>\n",
       "      <td>0.00</td>\n",
       "      <td>0.00</td>\n",
       "      <td>12.97</td>\n",
       "      <td>0.00</td>\n",
       "      <td>12.97</td>\n",
       "      <td>0.00</td>\n",
       "      <td>-12.97</td>\n",
       "      <td>-12.97</td>\n",
       "    </tr>\n",
       "    <tr>\n",
       "      <th>650</th>\n",
       "      <td>Büroeinrichtung</td>\n",
       "      <td>27.11.</td>\n",
       "      <td>854.84</td>\n",
       "      <td>0.00</td>\n",
       "      <td>524.97</td>\n",
       "      <td>0.00</td>\n",
       "      <td>1379.81</td>\n",
       "      <td>0.00</td>\n",
       "      <td>-1379.81</td>\n",
       "      <td>-1379.81</td>\n",
       "    </tr>\n",
       "    <tr>\n",
       "      <th>670</th>\n",
       "      <td>Geringwertige Wirtschaftsgüter</td>\n",
       "      <td>01.01.</td>\n",
       "      <td>128.40</td>\n",
       "      <td>0.00</td>\n",
       "      <td>0.00</td>\n",
       "      <td>0.00</td>\n",
       "      <td>128.40</td>\n",
       "      <td>0.00</td>\n",
       "      <td>-128.40</td>\n",
       "      <td>-128.40</td>\n",
       "    </tr>\n",
       "    <tr>\n",
       "      <th>675</th>\n",
       "      <td>Geringwertige Wirtschaftsgüter Sammelposten</td>\n",
       "      <td>31.12.</td>\n",
       "      <td>532.42</td>\n",
       "      <td>0.00</td>\n",
       "      <td>0.00</td>\n",
       "      <td>88.07</td>\n",
       "      <td>444.35</td>\n",
       "      <td>0.00</td>\n",
       "      <td>-444.35</td>\n",
       "      <td>-444.35</td>\n",
       "    </tr>\n",
       "    <tr>\n",
       "      <th>690</th>\n",
       "      <td>Sonstige Betriebs- und Geschäftsausstattung</td>\n",
       "      <td>31.12.</td>\n",
       "      <td>100.53</td>\n",
       "      <td>0.00</td>\n",
       "      <td>651.17</td>\n",
       "      <td>54.28</td>\n",
       "      <td>697.42</td>\n",
       "      <td>0.00</td>\n",
       "      <td>-697.42</td>\n",
       "      <td>-697.42</td>\n",
       "    </tr>\n",
       "    <tr>\n",
       "      <th>...</th>\n",
       "      <td>...</td>\n",
       "      <td>...</td>\n",
       "      <td>...</td>\n",
       "      <td>...</td>\n",
       "      <td>...</td>\n",
       "      <td>...</td>\n",
       "      <td>...</td>\n",
       "      <td>...</td>\n",
       "      <td>...</td>\n",
       "      <td>...</td>\n",
       "    </tr>\n",
       "    <tr>\n",
       "      <th>9008</th>\n",
       "      <td>Saldenvorträge Debitoren</td>\n",
       "      <td>01.01.</td>\n",
       "      <td>0.00</td>\n",
       "      <td>1.46</td>\n",
       "      <td>0.00</td>\n",
       "      <td>0.00</td>\n",
       "      <td>0.00</td>\n",
       "      <td>1.46</td>\n",
       "      <td>1.46</td>\n",
       "      <td>1.46</td>\n",
       "    </tr>\n",
       "    <tr>\n",
       "      <th>9009</th>\n",
       "      <td>Saldenvorträge Kreditoren</td>\n",
       "      <td>01.01.</td>\n",
       "      <td>0.00</td>\n",
       "      <td>5329.79</td>\n",
       "      <td>0.00</td>\n",
       "      <td>0.00</td>\n",
       "      <td>0.00</td>\n",
       "      <td>5329.79</td>\n",
       "      <td>5329.79</td>\n",
       "      <td>5329.79</td>\n",
       "    </tr>\n",
       "    <tr>\n",
       "      <th>10010</th>\n",
       "      <td>Kunden</td>\n",
       "      <td>27.04.</td>\n",
       "      <td>1.46</td>\n",
       "      <td>0.00</td>\n",
       "      <td>0.00</td>\n",
       "      <td>0.00</td>\n",
       "      <td>1.46</td>\n",
       "      <td>0.00</td>\n",
       "      <td>-1.46</td>\n",
       "      <td>-1.46</td>\n",
       "    </tr>\n",
       "    <tr>\n",
       "      <th>10003</th>\n",
       "      <td>Sammelkonto Kreditoren</td>\n",
       "      <td>31.12.</td>\n",
       "      <td>5330.93</td>\n",
       "      <td>0.00</td>\n",
       "      <td>445422.74</td>\n",
       "      <td>441193.95</td>\n",
       "      <td>9559.72</td>\n",
       "      <td>0.00</td>\n",
       "      <td>-9559.72</td>\n",
       "      <td>-9559.72</td>\n",
       "    </tr>\n",
       "    <tr>\n",
       "      <th>10007</th>\n",
       "      <td>Ebay</td>\n",
       "      <td>01.01.</td>\n",
       "      <td>0.00</td>\n",
       "      <td>1.14</td>\n",
       "      <td>0.00</td>\n",
       "      <td>0.00</td>\n",
       "      <td>0.00</td>\n",
       "      <td>1.14</td>\n",
       "      <td>1.14</td>\n",
       "      <td>1.14</td>\n",
       "    </tr>\n",
       "  </tbody>\n",
       "</table>\n",
       "<p>91 rows × 10 columns</p>\n",
       "</div>"
      ],
      "text/plain": [
       "                                              Name Letzte Buchung  EB Soll  \\\n",
       "Konto                                                                        \n",
       "135                                   EDV-Software         27.11.     0.00   \n",
       "650                                Büroeinrichtung         27.11.   854.84   \n",
       "670                 Geringwertige Wirtschaftsgüter         01.01.   128.40   \n",
       "675    Geringwertige Wirtschaftsgüter Sammelposten         31.12.   532.42   \n",
       "690    Sonstige Betriebs- und Geschäftsausstattung         31.12.   100.53   \n",
       "...                                            ...            ...      ...   \n",
       "9008                      Saldenvorträge Debitoren         01.01.     0.00   \n",
       "9009                     Saldenvorträge Kreditoren         01.01.     0.00   \n",
       "10010                                       Kunden         27.04.     1.46   \n",
       "10003                       Sammelkonto Kreditoren         31.12.  5330.93   \n",
       "10007                                         Ebay         01.01.     0.00   \n",
       "\n",
       "       EB Haben  Summe Soll  Summe Haben  Saldo Soll  Saldo Haben  checksum  \\\n",
       "Konto                                                                         \n",
       "135        0.00       12.97         0.00       12.97         0.00    -12.97   \n",
       "650        0.00      524.97         0.00     1379.81         0.00  -1379.81   \n",
       "670        0.00        0.00         0.00      128.40         0.00   -128.40   \n",
       "675        0.00        0.00        88.07      444.35         0.00   -444.35   \n",
       "690        0.00      651.17        54.28      697.42         0.00   -697.42   \n",
       "...         ...         ...          ...         ...          ...       ...   \n",
       "9008       1.46        0.00         0.00        0.00         1.46      1.46   \n",
       "9009    5329.79        0.00         0.00        0.00      5329.79   5329.79   \n",
       "10010      0.00        0.00         0.00        1.46         0.00     -1.46   \n",
       "10003      0.00   445422.74    441193.95     9559.72         0.00  -9559.72   \n",
       "10007      1.14        0.00         0.00        0.00         1.14      1.14   \n",
       "\n",
       "       test_redis  \n",
       "Konto              \n",
       "135        -12.97  \n",
       "650      -1379.81  \n",
       "670       -128.40  \n",
       "675       -444.35  \n",
       "690       -697.42  \n",
       "...           ...  \n",
       "9008         1.46  \n",
       "9009      5329.79  \n",
       "10010       -1.46  \n",
       "10003    -9559.72  \n",
       "10007        1.14  \n",
       "\n",
       "[91 rows x 10 columns]"
      ]
     },
     "execution_count": 57,
     "metadata": {},
     "output_type": "execute_result"
    }
   ],
   "source": [
    "validate"
   ]
  },
  {
   "cell_type": "code",
   "execution_count": 54,
   "metadata": {},
   "outputs": [
    {
     "data": {
      "text/html": [
       "<div>\n",
       "<style scoped>\n",
       "    .dataframe tbody tr th:only-of-type {\n",
       "        vertical-align: middle;\n",
       "    }\n",
       "\n",
       "    .dataframe tbody tr th {\n",
       "        vertical-align: top;\n",
       "    }\n",
       "\n",
       "    .dataframe thead th {\n",
       "        text-align: right;\n",
       "    }\n",
       "</style>\n",
       "<table border=\"1\" class=\"dataframe\">\n",
       "  <thead>\n",
       "    <tr style=\"text-align: right;\">\n",
       "      <th></th>\n",
       "      <th>Name</th>\n",
       "      <th>Letzte Buchung</th>\n",
       "      <th>EB Soll</th>\n",
       "      <th>EB Haben</th>\n",
       "      <th>Summe Soll</th>\n",
       "      <th>Summe Haben</th>\n",
       "      <th>Saldo Soll</th>\n",
       "      <th>Saldo Haben</th>\n",
       "      <th>checksum</th>\n",
       "      <th>test_redis</th>\n",
       "    </tr>\n",
       "    <tr>\n",
       "      <th>Konto</th>\n",
       "      <th></th>\n",
       "      <th></th>\n",
       "      <th></th>\n",
       "      <th></th>\n",
       "      <th></th>\n",
       "      <th></th>\n",
       "      <th></th>\n",
       "      <th></th>\n",
       "      <th></th>\n",
       "      <th></th>\n",
       "    </tr>\n",
       "  </thead>\n",
       "  <tbody>\n",
       "    <tr>\n",
       "      <th>1200</th>\n",
       "      <td>Forderungen aus Lieferungen und Leistungen</td>\n",
       "      <td>27.04.</td>\n",
       "      <td>1.46</td>\n",
       "      <td>0.0</td>\n",
       "      <td>0.00</td>\n",
       "      <td>0.00</td>\n",
       "      <td>1.46</td>\n",
       "      <td>0.0</td>\n",
       "      <td>-1.46</td>\n",
       "      <td>0.0</td>\n",
       "    </tr>\n",
       "    <tr>\n",
       "      <th>3300</th>\n",
       "      <td>Verbindlichkeiten aus Lieferungen und Leistungen</td>\n",
       "      <td>31.12.</td>\n",
       "      <td>5329.79</td>\n",
       "      <td>0.0</td>\n",
       "      <td>445422.74</td>\n",
       "      <td>441193.95</td>\n",
       "      <td>9558.58</td>\n",
       "      <td>0.0</td>\n",
       "      <td>-9558.58</td>\n",
       "      <td>0.0</td>\n",
       "    </tr>\n",
       "  </tbody>\n",
       "</table>\n",
       "</div>"
      ],
      "text/plain": [
       "                                                   Name Letzte Buchung  \\\n",
       "Konto                                                                    \n",
       "1200         Forderungen aus Lieferungen und Leistungen         27.04.   \n",
       "3300   Verbindlichkeiten aus Lieferungen und Leistungen         31.12.   \n",
       "\n",
       "       EB Soll  EB Haben  Summe Soll  Summe Haben  Saldo Soll  Saldo Haben  \\\n",
       "Konto                                                                        \n",
       "1200      1.46       0.0        0.00         0.00        1.46          0.0   \n",
       "3300   5329.79       0.0   445422.74    441193.95     9558.58          0.0   \n",
       "\n",
       "       checksum  test_redis  \n",
       "Konto                        \n",
       "1200      -1.46         0.0  \n",
       "3300   -9558.58         0.0  "
      ]
     },
     "execution_count": 54,
     "metadata": {},
     "output_type": "execute_result"
    }
   ],
   "source": [
    "validate[validate['checksum'] != validate['test_redis']]"
   ]
  },
  {
   "cell_type": "code",
   "execution_count": 55,
   "metadata": {},
   "outputs": [
    {
     "data": {
      "text/plain": [
       "{'139'}"
      ]
     },
     "execution_count": 55,
     "metadata": {},
     "output_type": "execute_result"
    }
   ],
   "source": [
    "r.smembers('account:atomic:10007.0')"
   ]
  },
  {
   "cell_type": "code",
   "execution_count": 38,
   "metadata": {},
   "outputs": [
    {
     "data": {
      "text/plain": [
       "{'generalID': '50',\n",
       " 'accountID': '10007.0',\n",
       " 'text': 'EB-Wert',\n",
       " 'amount': '114.0',\n",
       " 'kontenseite': 'Haben'}"
      ]
     },
     "execution_count": 38,
     "metadata": {},
     "output_type": "execute_result"
    }
   ],
   "source": [
    "r.hgetall('atomicID:139')"
   ]
  },
  {
   "cell_type": "code",
   "execution_count": 39,
   "metadata": {},
   "outputs": [],
   "source": [
    "m = 114"
   ]
  },
  {
   "cell_type": "code",
   "execution_count": 40,
   "metadata": {},
   "outputs": [
    {
     "data": {
      "text/plain": [
       "114.0"
      ]
     },
     "execution_count": 40,
     "metadata": {},
     "output_type": "execute_result"
    }
   ],
   "source": [
    "float(114)"
   ]
  },
  {
   "cell_type": "code",
   "execution_count": 41,
   "metadata": {},
   "outputs": [
    {
     "data": {
      "text/plain": [
       "114.0"
      ]
     },
     "execution_count": 41,
     "metadata": {},
     "output_type": "execute_result"
    }
   ],
   "source": [
    "float(int(float(m)))"
   ]
  },
  {
   "cell_type": "code",
   "execution_count": null,
   "metadata": {},
   "outputs": [],
   "source": []
  }
 ],
 "metadata": {
  "kernelspec": {
   "display_name": "Python 3",
   "language": "python",
   "name": "python3"
  },
  "language_info": {
   "codemirror_mode": {
    "name": "ipython",
    "version": 3
   },
   "file_extension": ".py",
   "mimetype": "text/x-python",
   "name": "python",
   "nbconvert_exporter": "python",
   "pygments_lexer": "ipython3",
   "version": "3.7.6"
  }
 },
 "nbformat": 4,
 "nbformat_minor": 4
}
