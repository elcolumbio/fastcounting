{
 "cells": [
  {
   "cell_type": "code",
   "execution_count": null,
   "metadata": {},
   "outputs": [],
   "source": [
    "import datetime as dt\n",
    "import pandas as pd\n",
    "import redis\n",
    "\n",
    "from fastcounting import helper"
   ]
  },
  {
   "cell_type": "code",
   "execution_count": null,
   "metadata": {},
   "outputs": [],
   "source": [
    "r = redis.Redis(**helper.Helper().rediscred, decode_responses=True)"
   ]
  },
  {
   "cell_type": "code",
   "execution_count": null,
   "metadata": {},
   "outputs": [],
   "source": [
    "lua_total = \"\"\"\n",
    "local result = 0.0\n",
    "for l, atomic in ipairs(redis.call('SMEMBERS', KEYS[1]))\n",
    "do result = result + redis.call('HGET', 'atomicID:' .. atomic, 'amount')\n",
    "end\n",
    "return result\n",
    "\"\"\""
   ]
  },
  {
   "cell_type": "code",
   "execution_count": null,
   "metadata": {},
   "outputs": [],
   "source": [
    "def read_lexware(month, name='report', nrows=None):\n",
    "    \"\"\"Read xlxs from the default folder for each year e.g. month=2018-13 or actual month.\"\"\"\n",
    "    p = helper.Helper().datafolder(month)\n",
    "    files = [file for file in p.iterdir() if file.parts[-1].lower().startswith(name)]\n",
    "    if files:\n",
    "        data = pd.read_table(files[0], sep='\\t', engine='python', header=[0, 1], decimal=',', thousands='.', parse_dates=[2])\n",
    "    return data"
   ]
  },
  {
   "cell_type": "code",
   "execution_count": null,
   "metadata": {},
   "outputs": [],
   "source": [
    "def clean_report(validate):\n",
    "    better_columns = ['Konto', 'Name', 'Letzte Buchung', 'EB Soll', 'EB Haben', 'Summe Soll', 'Summe Haben', 'drop1', 'drop2', 'Saldo Soll', 'Saldo Haben']\n",
    "    validate.columns = better_columns\n",
    "    validate.set_index('Konto', inplace = True)\n",
    "    validate.fillna(0, inplace=True)  # for full year data set they are equal to sum\n",
    "    validate.drop(['drop1', 'drop2'], axis=1, inplace=True)\n",
    "    return validate"
   ]
  },
  {
   "cell_type": "code",
   "execution_count": null,
   "metadata": {},
   "outputs": [],
   "source": [
    "def total_diff(validate, lua_script):\n",
    "    \"\"\"Check total sum which is aggregation of EB + Saldo Haben + Saldo Soll.\"\"\"\n",
    "    redis_sum_list = []\n",
    "    for konto in validate.index:\n",
    "        redis_sum_list.append(\n",
    "            r.eval(lua_script, 1, f'account:atomic:{float(konto)}'))\n",
    "    validate['test_redis'] = redis_sum_list\n",
    "    validate['test_redis'] = validate['test_redis'] / 100\n",
    "            \n",
    "    validate['checksum'] =  validate['Saldo Haben'] - validate['Saldo Soll']\n",
    "    return validate[validate['checksum'] != validate['test_redis']]"
   ]
  },
  {
   "cell_type": "code",
   "execution_count": null,
   "metadata": {},
   "outputs": [],
   "source": [
    "# main\n",
    "validate = read_lexware('2017-13')\n",
    "validate = clean_report(validate)"
   ]
  },
  {
   "cell_type": "code",
   "execution_count": null,
   "metadata": {},
   "outputs": [],
   "source": [
    "total_diff(validate, lua_total)"
   ]
  },
  {
   "cell_type": "code",
   "execution_count": null,
   "metadata": {},
   "outputs": [],
   "source": [
    "# date thingy"
   ]
  },
  {
   "cell_type": "code",
   "execution_count": null,
   "metadata": {},
   "outputs": [],
   "source": [
    "atomics = r.zrangebyscore('atomic:date', dt.datetime(2017,2,1).timestamp(), dt.datetime(2017,2,2).timestamp(), withscores=True)"
   ]
  },
  {
   "cell_type": "code",
   "execution_count": null,
   "metadata": {},
   "outputs": [],
   "source": [
    "result_list = []\n",
    "for atomic in atomics:\n",
    "    row = r.hgetall(f'atomicID:{atomic[0]}')\n",
    "    row.update({'Buchungsdatum':dt.datetime.fromtimestamp(atomic[1])})\n",
    "    result_list.append(row)"
   ]
  },
  {
   "cell_type": "code",
   "execution_count": null,
   "metadata": {},
   "outputs": [],
   "source": [
    "dateview = pd.DataFrame(result_list)"
   ]
  },
  {
   "cell_type": "code",
   "execution_count": null,
   "metadata": {},
   "outputs": [],
   "source": [
    "r.hgetall('batchID:1')"
   ]
  },
  {
   "cell_type": "code",
   "execution_count": null,
   "metadata": {},
   "outputs": [],
   "source": []
  }
 ],
 "metadata": {
  "kernelspec": {
   "display_name": "Python 3",
   "language": "python",
   "name": "python3"
  },
  "language_info": {
   "codemirror_mode": {
    "name": "ipython",
    "version": 3
   },
   "file_extension": ".py",
   "mimetype": "text/x-python",
   "name": "python",
   "nbconvert_exporter": "python",
   "pygments_lexer": "ipython3",
   "version": "3.7.6"
  }
 },
 "nbformat": 4,
 "nbformat_minor": 4
}
