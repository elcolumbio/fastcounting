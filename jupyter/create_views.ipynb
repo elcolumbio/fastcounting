{
 "cells": [
  {
   "cell_type": "code",
   "execution_count": null,
   "metadata": {},
   "outputs": [],
   "source": [
    "import pandas as pd\n",
    "import datetime\n",
    "from waipawama import Finance\n",
    "import pathlib\n",
    "import datetime as dt\n",
    "import redis\n",
    "\n",
    "from fastcounting import helper"
   ]
  },
  {
   "cell_type": "code",
   "execution_count": null,
   "metadata": {},
   "outputs": [],
   "source": [
    "r = redis.Redis(**helper.Helper().rediscred, decode_responses=True)"
   ]
  },
  {
   "cell_type": "code",
   "execution_count": null,
   "metadata": {},
   "outputs": [],
   "source": [
    "lua_script = \"\"\"\n",
    "local result = 0.0\n",
    "for l, atomic in ipairs(redis.call('SMEMBERS', KEYS[1]))\n",
    "do result = result + redis.call('HGET', 'atomicID:' .. atomic, 'amount')\n",
    "end\n",
    "return result\n",
    "\"\"\""
   ]
  },
  {
   "cell_type": "code",
   "execution_count": null,
   "metadata": {},
   "outputs": [],
   "source": [
    "result = r.eval(lua_script, 1, 'account:atomic:3300.0')"
   ]
  },
  {
   "cell_type": "code",
   "execution_count": null,
   "metadata": {},
   "outputs": [],
   "source": [
    "result"
   ]
  },
  {
   "cell_type": "code",
   "execution_count": null,
   "metadata": {},
   "outputs": [],
   "source": [
    "r.hgetall('generalID:10')"
   ]
  },
  {
   "cell_type": "code",
   "execution_count": null,
   "metadata": {},
   "outputs": [],
   "source": [
    "r.hgetall('atomicID:2')"
   ]
  },
  {
   "cell_type": "code",
   "execution_count": null,
   "metadata": {},
   "outputs": [],
   "source": [
    "def read_lexware(month, name='report', nrows=None):\n",
    "    \"\"\"Read xlxs from the default folder for each year e.g. month=2018-13 or actual month.\"\"\"\n",
    "    p = helper.Helper().datafolder(month)\n",
    "    files = [file for file in p.iterdir() if file.parts[-1].lower().startswith(name)]\n",
    "    if files:\n",
    "        data = pd.read_table(files[0], sep='\\t', engine='python', header=[0, 1], decimal=',', thousands='.', parse_dates=[2])\n",
    "    return data"
   ]
  },
  {
   "cell_type": "code",
   "execution_count": null,
   "metadata": {},
   "outputs": [],
   "source": [
    "def clean_report(validate):\n",
    "    better_columns = ['Konto', 'Name', 'Letzte Buchung', 'EB Soll', 'EB Haben', 'Summe Soll', 'Summe Haben', 'drop1', 'drop2', 'Saldo Soll', 'Saldo Haben']\n",
    "    validate.columns = better_columns\n",
    "    validate.set_index('Konto', inplace = True)\n",
    "    validate.fillna(0, inplace=True)  # for full year data set they are equal to sum\n",
    "    validate.drop(['drop1', 'drop2'], axis=1, inplace=True)\n",
    "    return validate"
   ]
  },
  {
   "cell_type": "code",
   "execution_count": null,
   "metadata": {},
   "outputs": [],
   "source": [
    "# main\n",
    "validate = read_lexware('2017-13')\n",
    "validate = clean_report(validate)"
   ]
  },
  {
   "cell_type": "code",
   "execution_count": null,
   "metadata": {},
   "outputs": [],
   "source": [
    "# check total sum which is aggregation of EB + Saldo Haben + Saldo Soll\n",
    "# For open "
   ]
  },
  {
   "cell_type": "code",
   "execution_count": null,
   "metadata": {},
   "outputs": [],
   "source": [
    "validate['checksum'] =  validate['Saldo Haben'] - validate['Saldo Soll']"
   ]
  },
  {
   "cell_type": "code",
   "execution_count": null,
   "metadata": {},
   "outputs": [],
   "source": [
    "redis_sum_list = []\n",
    "for konto in validate.index:\n",
    "    redis_sum_list.append(r.eval(lua_script, 1, f'account:atomic:{float(konto)}'))"
   ]
  },
  {
   "cell_type": "code",
   "execution_count": null,
   "metadata": {},
   "outputs": [],
   "source": [
    "validate['test_redis'] = redis_sum_list\n",
    "validate['test_redis'] = validate['test_redis'] / 100"
   ]
  },
  {
   "cell_type": "code",
   "execution_count": null,
   "metadata": {},
   "outputs": [],
   "source": [
    "validate"
   ]
  },
  {
   "cell_type": "code",
   "execution_count": null,
   "metadata": {},
   "outputs": [],
   "source": [
    "validate[validate['checksum'] != validate['test_redis']]"
   ]
  },
  {
   "cell_type": "code",
   "execution_count": null,
   "metadata": {},
   "outputs": [],
   "source": [
    "r.smembers('account:atomic:10007.0')"
   ]
  },
  {
   "cell_type": "code",
   "execution_count": null,
   "metadata": {},
   "outputs": [],
   "source": [
    "r.hgetall('atomicID:139')"
   ]
  }
 ],
 "metadata": {
  "kernelspec": {
   "display_name": "Python 3",
   "language": "python",
   "name": "python3"
  },
  "language_info": {
   "codemirror_mode": {
    "name": "ipython",
    "version": 3
   },
   "file_extension": ".py",
   "mimetype": "text/x-python",
   "name": "python",
   "nbconvert_exporter": "python",
   "pygments_lexer": "ipython3",
   "version": "3.7.6"
  }
 },
 "nbformat": 4,
 "nbformat_minor": 4
}
